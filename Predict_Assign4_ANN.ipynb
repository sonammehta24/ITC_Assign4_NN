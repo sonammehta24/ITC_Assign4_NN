{
  "nbformat": 4,
  "nbformat_minor": 0,
  "metadata": {
    "colab": {
      "provenance": []
    },
    "kernelspec": {
      "name": "python3",
      "display_name": "Python 3"
    },
    "language_info": {
      "name": "python"
    }
  },
  "cells": [
    {
      "cell_type": "code",
      "execution_count": 1,
      "metadata": {
        "id": "slLA6wT6JAKq"
      },
      "outputs": [],
      "source": [
        "import pandas as pd\n",
        "import numpy as np\n",
        "import matplotlib.pyplot as plt"
      ]
    },
    {
      "cell_type": "code",
      "source": [
        "df = pd.read_csv('/content/TitanicPreprocessed - TitanicPreprocessed.csv')"
      ],
      "metadata": {
        "id": "FW7xijs_JF1N"
      },
      "execution_count": 2,
      "outputs": []
    },
    {
      "cell_type": "code",
      "source": [
        "df.duplicated().sum()"
      ],
      "metadata": {
        "colab": {
          "base_uri": "https://localhost:8080/"
        },
        "id": "cILSKbMTJHaB",
        "outputId": "1cc65311-43e2-46fe-e077-c3290d33a70e"
      },
      "execution_count": 3,
      "outputs": [
        {
          "output_type": "execute_result",
          "data": {
            "text/plain": [
              "95"
            ]
          },
          "metadata": {},
          "execution_count": 3
        }
      ]
    },
    {
      "cell_type": "code",
      "source": [
        "df = df.drop_duplicates()"
      ],
      "metadata": {
        "id": "_xeDKwXeJJw8"
      },
      "execution_count": 4,
      "outputs": []
    },
    {
      "cell_type": "code",
      "source": [
        "# Shuffle your dataset\n",
        "shuffle_df = df.sample(frac=1)\n",
        "\n",
        "# Define a size for your train set\n",
        "train_size = int(0.9 * len(df))\n",
        "\n",
        "# Split your dataset\n",
        "train_set = shuffle_df[:train_size]\n",
        "test_set = shuffle_df[train_size:]"
      ],
      "metadata": {
        "id": "dCR4ZPzpJLiX"
      },
      "execution_count": 5,
      "outputs": []
    },
    {
      "cell_type": "code",
      "source": [
        "X_train = train_set.drop('Survived', axis=1).values\n",
        "y_train = train_set['Survived'].values"
      ],
      "metadata": {
        "id": "h9aPCK0hJOxF"
      },
      "execution_count": 6,
      "outputs": []
    },
    {
      "cell_type": "code",
      "source": [
        "X_test = test_set.drop('Survived', axis=1).values\n",
        "y_test = test_set['Survived'].values"
      ],
      "metadata": {
        "id": "oYHjlApbJTG8"
      },
      "execution_count": 77,
      "outputs": []
    },
    {
      "cell_type": "code",
      "source": [
        "X_train = X_train - X_train.min() / (X_train.max() - X_train.min())"
      ],
      "metadata": {
        "id": "JXYgLbcCJVQV"
      },
      "execution_count": 8,
      "outputs": []
    },
    {
      "cell_type": "code",
      "source": [
        "X_test = X_test - X_test.min() / (X_test.max() - X_test.min())"
      ],
      "metadata": {
        "id": "GWLMQbnCJX_v"
      },
      "execution_count": 78,
      "outputs": []
    },
    {
      "cell_type": "code",
      "source": [
        "#Activations\n",
        "\n",
        "def linear(H):\n",
        "  return H\n",
        "\n",
        "def ReLU(H):\n",
        "  return H*(H>0)\n",
        "\n",
        "def sigmoid(H):\n",
        "  return 1/(1+np.exp(-H))\n",
        "\n",
        "def softmax(H):\n",
        "  eH=np.exp(H)\n",
        "  return eH/eH.sum(axis=1, keepdims=True)\n",
        "\n",
        "#Loss Functions\n",
        "\n",
        "def cross_entropy(Y, P_hat):\n",
        "  return -(1/len(Y))*np.sum(Y*np.log(P_hat))\n",
        "\n",
        "def OLS(Y, Y_hat):\n",
        "  return (1/(2*len(Y)))*np.sum((Y-Y_hat)**2)\n",
        "\n",
        "#Misc\n",
        "\n",
        "def one_hot(y):\n",
        "  N=len(y)\n",
        "  K=len(set(y))\n",
        "  Y = np.zeros((N,K))\n",
        "\n",
        "  for i in range(N):\n",
        "    Y[i,y[i]]=1\n",
        "\n",
        "  return Y\n",
        "\n",
        "def accuracy(y,y_hat):\n",
        "  return np.mean(y==y_hat)\n",
        "\n",
        "def R2(y,y_hat):\n",
        "  return 1-np.sum((y-y_hat)**2)/np.sum((y - y.mean())**2)"
      ],
      "metadata": {
        "id": "KOSff6diJZmv"
      },
      "execution_count": 10,
      "outputs": []
    },
    {
      "cell_type": "code",
      "source": [
        "def derivative(Z, a):\n",
        "\n",
        "  if a == linear:\n",
        "    return 1\n",
        "  elif a == sigmoid:\n",
        "    return Z*(1-Z)\n",
        "  elif a == np.tanh:\n",
        "    return 1-Z*Z\n",
        "  elif a == ReLU:\n",
        "    return (Z>0).astype(int)\n",
        "  else:\n",
        "    ValueError(\"Unknown Activation\")"
      ],
      "metadata": {
        "id": "bi0KPTFUJg3D"
      },
      "execution_count": 11,
      "outputs": []
    },
    {
      "cell_type": "code",
      "source": [
        "class ANN():\n",
        "\n",
        "  def __init__(self, architecture, activations=None, mode=0):\n",
        "    self.mode=mode\n",
        "    self.architecture = architecture\n",
        "    self.activations = activations\n",
        "    self.L = len(architecture)+1\n",
        "\n",
        "  def fit (self, X, y, eta=1e-3, epochs=1e3,show_curve=False):\n",
        "    epochs= int(epochs)\n",
        "    if self.mode:\n",
        "      Y=y\n",
        "      K=1\n",
        "    else:\n",
        "      Y = one_hot(y)\n",
        "      K = Y.shape[1]\n",
        "\n",
        "    N,D = X.shape\n",
        "\n",
        "\n",
        "    #Initialize Weights and Biases: Stochastic\n",
        "    self.W = {l: np.random.randn(M[0],M[1]) for l, M in enumerate(zip(([D]+self.architecture), (self.architecture +[K])),1)}\n",
        "    self.b = {l: np.random.randn(M) for l, M in enumerate(self.architecture+[K],1)}\n",
        "\n",
        "    #Activations\n",
        "    if self.activations is None:\n",
        "      self.a = {l: ReLU for l in range(1,self.L)}\n",
        "    else:\n",
        "      self.a ={l: act for l , act in enumerate(self.activations,1)}\n",
        "\n",
        "    #Output Activation Functions\n",
        "    if self.mode:\n",
        "      self.a[self.L]=linear\n",
        "    else:\n",
        "      self.a[self.L]=sigmoid\n",
        "\n",
        "    J = np.zeros(epochs)\n",
        "\n",
        "    #Grad Descent/ Back prop\n",
        "\n",
        "    for epoch in range(epochs):\n",
        "      self.__forward__(X)\n",
        "      if self.mode:\n",
        "        J[epoch]= OLS(Y, self.Z[self.L])\n",
        "      else:\n",
        "        J[epoch]=cross_entropy(Y, self.Z[self.L])\n",
        "\n",
        "      dH = (1/N)*(self.Z[self.L]-Y)\n",
        "\n",
        "      for l in sorted (self.W.keys(), reverse=True):\n",
        "\n",
        "        dW = self.Z[l-1].T@dH\n",
        "        db = dH.sum(axis=0)\n",
        "\n",
        "        self.W[l] -= eta*dW\n",
        "        self.b[l] -= eta*db\n",
        "\n",
        "        if l>1:\n",
        "          dZ =dH@self.W[l].T\n",
        "          dH =dZ*derivative(self.Z[l-1], self.a[l-1])\n",
        "\n",
        "    if show_curve:\n",
        "        plt.figure()\n",
        "        plt.plot(J)\n",
        "        plt.xlabel(\"epochs\")\n",
        "        plt.ylabel(\"$\\mathcal{J}$\")\n",
        "        plt.show()\n",
        "\n",
        "  def __forward__(self, X):\n",
        "    self.Z ={0:X}\n",
        "    for l in sorted(self.W.keys()):\n",
        "      self.Z[l] = self.a[l](self.Z[l-1]@self.W[l]+self.b[l])\n",
        "\n",
        "  def predict(self, X):\n",
        "    self.__forward__(X)\n",
        "    if self.mode:\n",
        "      return self.Z[self.L]\n",
        "    else:\n",
        "      return self.Z[self.L].argmax(axis=1)\n"
      ],
      "metadata": {
        "id": "Gt0bPxvPJihW"
      },
      "execution_count": 30,
      "outputs": []
    },
    {
      "cell_type": "code",
      "source": [
        "plt.figure()\n",
        "plt.scatter(X_train[:,0],X_train[:,1], c=y_train, s=6, alpha=0.6)"
      ],
      "metadata": {
        "colab": {
          "base_uri": "https://localhost:8080/",
          "height": 447
        },
        "id": "zNFeUtEPJkT9",
        "outputId": "17a8f55f-a1df-4229-8787-8517eb079ca0"
      },
      "execution_count": 25,
      "outputs": [
        {
          "output_type": "execute_result",
          "data": {
            "text/plain": [
              "<matplotlib.collections.PathCollection at 0x7eb8f9f946d0>"
            ]
          },
          "metadata": {},
          "execution_count": 25
        },
        {
          "output_type": "display_data",
          "data": {
            "text/plain": [
              "<Figure size 640x480 with 1 Axes>"
            ],
            "image/png": "[encoded data removed]"
          },
          "metadata": {}
        }
      ]
    },
    {
      "cell_type": "code",
      "source": [
        "my_ann_classifier = ANN(architecture=[4,4], activations=[sigmoid,sigmoid])\n",
        "my_ann_classifier.fit(X_train,y_train, eta=4e-2, epochs=3e3, show_curve=True)"
      ],
      "metadata": {
        "colab": {
          "base_uri": "https://localhost:8080/",
          "height": 484
        },
        "id": "IWB8DGUHJmqX",
        "outputId": "5eb0409b-2d8d-45fd-c5f7-26e2aa563cd1"
      },
      "execution_count": 74,
      "outputs": [
        {
          "output_type": "stream",
          "name": "stderr",
          "text": [
            "<ipython-input-10-771f77e9be58>:10: RuntimeWarning: overflow encountered in exp\n",
            "  return 1/(1+np.exp(-H))\n"
          ]
        },
        {
          "output_type": "display_data",
          "data": {
            "text/plain": [
              "<Figure size 640x480 with 1 Axes>"
            ],
            "image/png": "[encoded data removed]"
          },
          "metadata": {}
        }
      ]
    },
    {
      "cell_type": "code",
      "source": [
        "y_hat=my_ann_classifier.predict(X_train)"
      ],
      "metadata": {
        "id": "g-_Xej2eJtzU"
      },
      "execution_count": 75,
      "outputs": []
    },
    {
      "cell_type": "code",
      "source": [
        "print(f\"Training Accuracy:  {accuracy(y_train,y_hat):0.4f}\")"
      ],
      "metadata": {
        "colab": {
          "base_uri": "https://localhost:8080/"
        },
        "id": "ov_sCN05J0qq",
        "outputId": "cf5a4dd3-c191-4d37-e98c-c56fb0679a16"
      },
      "execution_count": 76,
      "outputs": [
        {
          "output_type": "stream",
          "name": "stdout",
          "text": [
            "Training Accuracy:  0.7360\n"
          ]
        }
      ]
    },
    {
      "cell_type": "code",
      "source": [
        "y_hat_test=my_ann_classifier.predict(X_test)"
      ],
      "metadata": {
        "id": "nfg5b1AhJ7-c"
      },
      "execution_count": 79,
      "outputs": []
    },
    {
      "cell_type": "code",
      "source": [
        "print(f\"Testing Accuracy:  {accuracy(y_test,y_hat_test):0.4f}\")"
      ],
      "metadata": {
        "colab": {
          "base_uri": "https://localhost:8080/"
        },
        "id": "IQdwjRKAPx4k",
        "outputId": "fa22d103-24e5-450c-f68a-8f0adecb2966"
      },
      "execution_count": 80,
      "outputs": [
        {
          "output_type": "stream",
          "name": "stdout",
          "text": [
            "Testing Accuracy:  0.7000\n"
          ]
        }
      ]
    },
    {
      "cell_type": "code",
      "source": [],
      "metadata": {
        "id": "T1V_EPZHP15l"
      },
      "execution_count": null,
      "outputs": []
    }
  ]
}